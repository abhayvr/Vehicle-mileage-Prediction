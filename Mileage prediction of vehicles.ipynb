{
 "cells": [
  {
   "cell_type": "markdown",
   "id": "05b81046-d2cc-4cd5-91ee-b6855ca15687",
   "metadata": {},
   "source": [
    "# OBJECTIVE :"
   ]
  },
  {
   "cell_type": "markdown",
   "id": "1a3faa2c-7fde-44de-bff7-01abc502a49d",
   "metadata": {},
   "source": [
    "To build a predictive modeling algorithum to predict the mileage of vehicles"
   ]
  },
  {
   "cell_type": "code",
   "execution_count": 2,
   "id": "e2f22a49-e8fc-4163-bbe0-f60031d8fb88",
   "metadata": {},
   "outputs": [],
   "source": [
    "# libraries used\n",
    "# for data preparation and analysis\n",
    "import pandas as pd\n",
    "\n",
    "# for creating plots\n",
    "import matplotlib.pyplot as plt\n",
    "\n",
    "# for distribution plot and heatmap\n",
    "import seaborn as sns\n",
    "\n",
    "#for creating training and test samples\n",
    "from sklearn.model_selection import train_test_split\n",
    "\n",
    "# for feature selection(to select significant features)\n",
    "from sklearn.feature_selection import SelectKBest, f_regression\n",
    "\n",
    "# for building linear regression model\n",
    "from sklearn.linear_model import LinearRegression\n",
    "# linear regression algorithm is mainly used for neumerical values , continous values (age,salary).\n",
    "# it shows the relation ship between depended and independed variable"
   ]
  },
  {
   "cell_type": "code",
   "execution_count": 4,
   "id": "e269e520-eedf-4d32-982e-134795b9fde5",
   "metadata": {},
   "outputs": [],
   "source": [
    "# import automobile data\n",
    "df = pd.read_csv(r\"D:\\Data Science\\Introtallent\\python practice\\Data Files used in Projects\\automobile data.csv\")"
   ]
  },
  {
   "cell_type": "markdown",
   "id": "e6217cdf-46c0-45a9-bbd0-648c544c78a7",
   "metadata": {},
   "source": [
    "# understand the data"
   ]
  },
  {
   "cell_type": "code",
   "execution_count": 7,
   "id": "2ac55d7c-bb95-42bd-a36b-0d31084297d5",
   "metadata": {},
   "outputs": [
    {
     "data": {
      "text/html": [
       "<div>\n",
       "<style scoped>\n",
       "    .dataframe tbody tr th:only-of-type {\n",
       "        vertical-align: middle;\n",
       "    }\n",
       "\n",
       "    .dataframe tbody tr th {\n",
       "        vertical-align: top;\n",
       "    }\n",
       "\n",
       "    .dataframe thead th {\n",
       "        text-align: right;\n",
       "    }\n",
       "</style>\n",
       "<table border=\"1\" class=\"dataframe\">\n",
       "  <thead>\n",
       "    <tr style=\"text-align: right;\">\n",
       "      <th></th>\n",
       "      <th>MPG</th>\n",
       "      <th>Cylinders</th>\n",
       "      <th>Displacement</th>\n",
       "      <th>Horsepower</th>\n",
       "      <th>Weight</th>\n",
       "      <th>Acceleration</th>\n",
       "      <th>Model_year</th>\n",
       "      <th>Origin</th>\n",
       "      <th>Car_Name</th>\n",
       "    </tr>\n",
       "  </thead>\n",
       "  <tbody>\n",
       "    <tr>\n",
       "      <th>0</th>\n",
       "      <td>8.0</td>\n",
       "      <td>8</td>\n",
       "      <td>307.0</td>\n",
       "      <td>130</td>\n",
       "      <td>3504</td>\n",
       "      <td>12.0</td>\n",
       "      <td>2015</td>\n",
       "      <td>1</td>\n",
       "      <td>chevrolet</td>\n",
       "    </tr>\n",
       "    <tr>\n",
       "      <th>1</th>\n",
       "      <td>15.0</td>\n",
       "      <td>8</td>\n",
       "      <td>350.0</td>\n",
       "      <td>165</td>\n",
       "      <td>3693</td>\n",
       "      <td>11.5</td>\n",
       "      <td>2015</td>\n",
       "      <td>1</td>\n",
       "      <td>buick</td>\n",
       "    </tr>\n",
       "    <tr>\n",
       "      <th>2</th>\n",
       "      <td>18.0</td>\n",
       "      <td>8</td>\n",
       "      <td>318.0</td>\n",
       "      <td>150</td>\n",
       "      <td>3436</td>\n",
       "      <td>11.0</td>\n",
       "      <td>2015</td>\n",
       "      <td>1</td>\n",
       "      <td>plymouth</td>\n",
       "    </tr>\n",
       "    <tr>\n",
       "      <th>3</th>\n",
       "      <td>16.0</td>\n",
       "      <td>8</td>\n",
       "      <td>304.0</td>\n",
       "      <td>150</td>\n",
       "      <td>3433</td>\n",
       "      <td>12.0</td>\n",
       "      <td>2015</td>\n",
       "      <td>1</td>\n",
       "      <td>amc</td>\n",
       "    </tr>\n",
       "    <tr>\n",
       "      <th>4</th>\n",
       "      <td>17.0</td>\n",
       "      <td>8</td>\n",
       "      <td>302.0</td>\n",
       "      <td>140</td>\n",
       "      <td>3449</td>\n",
       "      <td>10.5</td>\n",
       "      <td>2015</td>\n",
       "      <td>1</td>\n",
       "      <td>ford</td>\n",
       "    </tr>\n",
       "  </tbody>\n",
       "</table>\n",
       "</div>"
      ],
      "text/plain": [
       "    MPG  Cylinders  Displacement Horsepower  Weight  Acceleration  Model_year  \\\n",
       "0   8.0          8         307.0        130    3504          12.0        2015   \n",
       "1  15.0          8         350.0        165    3693          11.5        2015   \n",
       "2  18.0          8         318.0        150    3436          11.0        2015   \n",
       "3  16.0          8         304.0        150    3433          12.0        2015   \n",
       "4  17.0          8         302.0        140    3449          10.5        2015   \n",
       "\n",
       "   Origin   Car_Name  \n",
       "0       1  chevrolet  \n",
       "1       1      buick  \n",
       "2       1   plymouth  \n",
       "3       1        amc  \n",
       "4       1       ford  "
      ]
     },
     "execution_count": 7,
     "metadata": {},
     "output_type": "execute_result"
    }
   ],
   "source": [
    "df.head()"
   ]
  },
  {
   "cell_type": "code",
   "execution_count": 9,
   "id": "d63c716e-6e81-4995-ba56-5bb23b06d72c",
   "metadata": {},
   "outputs": [
    {
     "data": {
      "text/plain": [
       "Index(['MPG', 'Cylinders', 'Displacement', 'Horsepower', 'Weight',\n",
       "       'Acceleration', 'Model_year', 'Origin', 'Car_Name'],\n",
       "      dtype='object')"
      ]
     },
     "execution_count": 9,
     "metadata": {},
     "output_type": "execute_result"
    }
   ],
   "source": [
    "# checking the column headers\n",
    "df.columns"
   ]
  },
  {
   "cell_type": "code",
   "execution_count": 11,
   "id": "f38b67cb-f3ee-44b7-88c2-a744b48d763a",
   "metadata": {},
   "outputs": [
    {
     "data": {
      "text/plain": [
       "MPG             float64\n",
       "Cylinders         int64\n",
       "Displacement    float64\n",
       "Horsepower       object\n",
       "Weight            int64\n",
       "Acceleration    float64\n",
       "Model_year        int64\n",
       "Origin            int64\n",
       "Car_Name         object\n",
       "dtype: object"
      ]
     },
     "execution_count": 11,
     "metadata": {},
     "output_type": "execute_result"
    }
   ],
   "source": [
    "# checking the data type\n",
    "df.dtypes"
   ]
  },
  {
   "cell_type": "markdown",
   "id": "16dd7904-eb30-4042-8c4b-f59bd93fbc18",
   "metadata": {},
   "source": [
    "# Variable Description"
   ]
  },
  {
   "cell_type": "markdown",
   "id": "2485d966-2ee9-4220-8b7a-e243600dc623",
   "metadata": {},
   "source": [
    "* Target Variable (y) : MPG (Mileage Per Gallon)\n",
    "* independent Variables(x) :\n",
    "    * 'Cylinders'\n",
    "    * 'Displacement'\n",
    "    * 'Horsepower'\n",
    "    * 'Weight'\n",
    "    * 'Acceleration'\n",
    "    * 'Model_year'\n",
    "    * 'Origin'\n",
    "    * 'Car_Name'"
   ]
  },
  {
   "cell_type": "code",
   "execution_count": 15,
   "id": "92b46119-cf40-43e5-bb3d-f3a6b3d66e59",
   "metadata": {},
   "outputs": [
    {
     "data": {
      "text/plain": [
       "(398, 9)"
      ]
     },
     "execution_count": 15,
     "metadata": {},
     "output_type": "execute_result"
    }
   ],
   "source": [
    "# checking the dimension of data, shows the number of rows and columns\n",
    "df.shape"
   ]
  },
  {
   "cell_type": "code",
   "execution_count": 17,
   "id": "d16644bc-6d42-4490-b9fb-165d096cefc4",
   "metadata": {},
   "outputs": [],
   "source": [
    "#hourse power is a numeric variable but in the df it is stored as object\n",
    "#so, we need to change the data type of hoursepower\n",
    "df['Horsepower'] = pd.to_numeric(df['Horsepower'],errors='coerce')\n",
    "# error coerce converts the error value into nan"
   ]
  },
  {
   "cell_type": "code",
   "execution_count": 19,
   "id": "2a1bfee6-f222-4305-a088-6990b0da110c",
   "metadata": {},
   "outputs": [
    {
     "data": {
      "text/plain": [
       "MPG             float64\n",
       "Cylinders         int64\n",
       "Displacement    float64\n",
       "Horsepower      float64\n",
       "Weight            int64\n",
       "Acceleration    float64\n",
       "Model_year        int64\n",
       "Origin            int64\n",
       "Car_Name         object\n",
       "dtype: object"
      ]
     },
     "execution_count": 19,
     "metadata": {},
     "output_type": "execute_result"
    }
   ],
   "source": [
    "# checcking d types\n",
    "df.dtypes"
   ]
  },
  {
   "cell_type": "code",
   "execution_count": 21,
   "id": "819fac5a-3846-4d61-b7d8-a95d1d6edee8",
   "metadata": {},
   "outputs": [
    {
     "data": {
      "text/html": [
       "<div>\n",
       "<style scoped>\n",
       "    .dataframe tbody tr th:only-of-type {\n",
       "        vertical-align: middle;\n",
       "    }\n",
       "\n",
       "    .dataframe tbody tr th {\n",
       "        vertical-align: top;\n",
       "    }\n",
       "\n",
       "    .dataframe thead th {\n",
       "        text-align: right;\n",
       "    }\n",
       "</style>\n",
       "<table border=\"1\" class=\"dataframe\">\n",
       "  <thead>\n",
       "    <tr style=\"text-align: right;\">\n",
       "      <th></th>\n",
       "      <th>MPG</th>\n",
       "      <th>Cylinders</th>\n",
       "      <th>Displacement</th>\n",
       "      <th>Horsepower</th>\n",
       "      <th>Weight</th>\n",
       "      <th>Acceleration</th>\n",
       "      <th>Model_year</th>\n",
       "      <th>Origin</th>\n",
       "    </tr>\n",
       "  </thead>\n",
       "  <tbody>\n",
       "    <tr>\n",
       "      <th>count</th>\n",
       "      <td>398.000000</td>\n",
       "      <td>398.000000</td>\n",
       "      <td>398.000000</td>\n",
       "      <td>392.000000</td>\n",
       "      <td>398.000000</td>\n",
       "      <td>398.000000</td>\n",
       "      <td>398.000000</td>\n",
       "      <td>398.000000</td>\n",
       "    </tr>\n",
       "    <tr>\n",
       "      <th>mean</th>\n",
       "      <td>23.489447</td>\n",
       "      <td>5.454774</td>\n",
       "      <td>193.425879</td>\n",
       "      <td>104.469388</td>\n",
       "      <td>2970.424623</td>\n",
       "      <td>15.568090</td>\n",
       "      <td>2008.989950</td>\n",
       "      <td>1.572864</td>\n",
       "    </tr>\n",
       "    <tr>\n",
       "      <th>std</th>\n",
       "      <td>7.849757</td>\n",
       "      <td>1.701004</td>\n",
       "      <td>104.269838</td>\n",
       "      <td>38.491160</td>\n",
       "      <td>846.841774</td>\n",
       "      <td>2.757689</td>\n",
       "      <td>3.697627</td>\n",
       "      <td>0.802055</td>\n",
       "    </tr>\n",
       "    <tr>\n",
       "      <th>min</th>\n",
       "      <td>8.000000</td>\n",
       "      <td>3.000000</td>\n",
       "      <td>68.000000</td>\n",
       "      <td>46.000000</td>\n",
       "      <td>1613.000000</td>\n",
       "      <td>8.000000</td>\n",
       "      <td>2003.000000</td>\n",
       "      <td>1.000000</td>\n",
       "    </tr>\n",
       "    <tr>\n",
       "      <th>25%</th>\n",
       "      <td>17.125000</td>\n",
       "      <td>4.000000</td>\n",
       "      <td>104.250000</td>\n",
       "      <td>75.000000</td>\n",
       "      <td>2223.750000</td>\n",
       "      <td>13.825000</td>\n",
       "      <td>2006.000000</td>\n",
       "      <td>1.000000</td>\n",
       "    </tr>\n",
       "    <tr>\n",
       "      <th>50%</th>\n",
       "      <td>23.000000</td>\n",
       "      <td>4.000000</td>\n",
       "      <td>148.500000</td>\n",
       "      <td>93.500000</td>\n",
       "      <td>2803.500000</td>\n",
       "      <td>15.500000</td>\n",
       "      <td>2009.000000</td>\n",
       "      <td>1.000000</td>\n",
       "    </tr>\n",
       "    <tr>\n",
       "      <th>75%</th>\n",
       "      <td>29.000000</td>\n",
       "      <td>8.000000</td>\n",
       "      <td>262.000000</td>\n",
       "      <td>126.000000</td>\n",
       "      <td>3608.000000</td>\n",
       "      <td>17.175000</td>\n",
       "      <td>2012.000000</td>\n",
       "      <td>2.000000</td>\n",
       "    </tr>\n",
       "    <tr>\n",
       "      <th>max</th>\n",
       "      <td>46.600000</td>\n",
       "      <td>8.000000</td>\n",
       "      <td>455.000000</td>\n",
       "      <td>230.000000</td>\n",
       "      <td>5140.000000</td>\n",
       "      <td>24.800000</td>\n",
       "      <td>2015.000000</td>\n",
       "      <td>3.000000</td>\n",
       "    </tr>\n",
       "  </tbody>\n",
       "</table>\n",
       "</div>"
      ],
      "text/plain": [
       "              MPG   Cylinders  Displacement  Horsepower       Weight  \\\n",
       "count  398.000000  398.000000    398.000000  392.000000   398.000000   \n",
       "mean    23.489447    5.454774    193.425879  104.469388  2970.424623   \n",
       "std      7.849757    1.701004    104.269838   38.491160   846.841774   \n",
       "min      8.000000    3.000000     68.000000   46.000000  1613.000000   \n",
       "25%     17.125000    4.000000    104.250000   75.000000  2223.750000   \n",
       "50%     23.000000    4.000000    148.500000   93.500000  2803.500000   \n",
       "75%     29.000000    8.000000    262.000000  126.000000  3608.000000   \n",
       "max     46.600000    8.000000    455.000000  230.000000  5140.000000   \n",
       "\n",
       "       Acceleration   Model_year      Origin  \n",
       "count    398.000000   398.000000  398.000000  \n",
       "mean      15.568090  2008.989950    1.572864  \n",
       "std        2.757689     3.697627    0.802055  \n",
       "min        8.000000  2003.000000    1.000000  \n",
       "25%       13.825000  2006.000000    1.000000  \n",
       "50%       15.500000  2009.000000    1.000000  \n",
       "75%       17.175000  2012.000000    2.000000  \n",
       "max       24.800000  2015.000000    3.000000  "
      ]
     },
     "execution_count": 21,
     "metadata": {},
     "output_type": "execute_result"
    }
   ],
   "source": [
    "df.describe()\n",
    "# it shows the min, max, count"
   ]
  },
  {
   "cell_type": "code",
   "execution_count": 23,
   "id": "9bdaa4c2-0ff9-4b5c-844e-545f97453155",
   "metadata": {},
   "outputs": [
    {
     "data": {
      "text/plain": [
       "MPG             0\n",
       "Cylinders       0\n",
       "Displacement    0\n",
       "Horsepower      6\n",
       "Weight          0\n",
       "Acceleration    0\n",
       "Model_year      0\n",
       "Origin          0\n",
       "Car_Name        0\n",
       "dtype: int64"
      ]
     },
     "execution_count": 23,
     "metadata": {},
     "output_type": "execute_result"
    }
   ],
   "source": [
    "# to check for null values\n",
    "df.isnull().sum()"
   ]
  },
  {
   "cell_type": "code",
   "execution_count": 25,
   "id": "b5600afc-409c-4a04-b499-fe16dd6b2e96",
   "metadata": {},
   "outputs": [],
   "source": [
    "# there are 6 missing values in the horsepower so replace it with median"
   ]
  },
  {
   "cell_type": "code",
   "execution_count": 27,
   "id": "c21db51e-f422-4dfd-ad47-d972bbd7d802",
   "metadata": {},
   "outputs": [],
   "source": [
    "df['Horsepower'] = df['Horsepower'].fillna(df['Horsepower'].median())"
   ]
  },
  {
   "cell_type": "code",
   "execution_count": 29,
   "id": "e797a1f7-15bb-4513-ab80-c5848675b85a",
   "metadata": {},
   "outputs": [
    {
     "data": {
      "text/plain": [
       "MPG             0\n",
       "Cylinders       0\n",
       "Displacement    0\n",
       "Horsepower      0\n",
       "Weight          0\n",
       "Acceleration    0\n",
       "Model_year      0\n",
       "Origin          0\n",
       "Car_Name        0\n",
       "dtype: int64"
      ]
     },
     "execution_count": 29,
     "metadata": {},
     "output_type": "execute_result"
    }
   ],
   "source": [
    "df.isnull().sum()"
   ]
  },
  {
   "cell_type": "markdown",
   "id": "48ef2be5-1082-4c29-a56e-0b29e0abaa02",
   "metadata": {},
   "source": [
    "# check for outliers"
   ]
  },
  {
   "cell_type": "markdown",
   "id": "d6a3c33d-d9c9-4f20-ba0d-39c7ac884385",
   "metadata": {},
   "source": [
    "to check for outliers we use the boxplot function.\n",
    "so we import the boxplot function from matplotlib.pyplot as plt to check the outliers.\n",
    "we check the outliers for numeric values"
   ]
  },
  {
   "cell_type": "code",
   "execution_count": 33,
   "id": "4f7981ed-8720-4305-a4d8-3c67607b0e20",
   "metadata": {},
   "outputs": [
    {
     "data": {
      "image/png": "[encoded data removed]",
      "text/plain": [
       "<Figure size 640x480 with 1 Axes>"
      ]
     },
     "metadata": {},
     "output_type": "display_data"
    }
   ],
   "source": [
    "plt.boxplot(df['MPG'])\n",
    "plt.show()\n",
    "# has no outliers"
   ]
  },
  {
   "cell_type": "code",
   "execution_count": 34,
   "id": "52161d49-bf45-4b28-966c-f1329c2ec4ef",
   "metadata": {},
   "outputs": [
    {
     "data": {
      "image/png": "[encoded data removed]",
      "text/plain": [
       "<Figure size 640x480 with 1 Axes>"
      ]
     },
     "metadata": {},
     "output_type": "display_data"
    }
   ],
   "source": [
    "plt.boxplot(df['Displacement'])\n",
    "plt.show()"
   ]
  },
  {
   "cell_type": "code",
   "execution_count": 35,
   "id": "8628e1dc-8a4d-4642-9735-cb90fc6d74dd",
   "metadata": {},
   "outputs": [
    {
     "data": {
      "image/png": "[encoded data removed]",
      "text/plain": [
       "<Figure size 640x480 with 1 Axes>"
      ]
     },
     "metadata": {},
     "output_type": "display_data"
    }
   ],
   "source": [
    "plt.boxplot(df['Horsepower']) #this has outliers\n",
    "plt.show()\n",
    "# here we could see the outliers"
   ]
  },
  {
   "cell_type": "code",
   "execution_count": 37,
   "id": "9603bbb9-bdf8-4019-9d5f-7f46bc44ea28",
   "metadata": {},
   "outputs": [
    {
     "data": {
      "image/png": "[encoded data removed]",
      "text/plain": [
       "<Figure size 640x480 with 1 Axes>"
      ]
     },
     "metadata": {},
     "output_type": "display_data"
    }
   ],
   "source": [
    "plt.boxplot(df['Weight']) # This has no outliers\n",
    "plt.show()"
   ]
  },
  {
   "cell_type": "code",
   "execution_count": 41,
   "id": "7d00c737-749c-4c40-bc48-b86b6d6b784b",
   "metadata": {},
   "outputs": [
    {
     "data": {
      "image/png": "[encoded data removed]",
      "text/plain": [
       "<Figure size 640x480 with 1 Axes>"
      ]
     },
     "metadata": {},
     "output_type": "display_data"
    }
   ],
   "source": [
    "plt.boxplot(df['Acceleration']) # has outliers\n",
    "plt.show()"
   ]
  },
  {
   "cell_type": "markdown",
   "id": "8ebd12a6-12b9-4e7e-b0f3-2cc4fff91fb9",
   "metadata": {},
   "source": [
    "there are outliers in horsepower and acceleration"
   ]
  },
  {
   "cell_type": "markdown",
   "id": "e920ae85-22d2-41a1-92f4-5e295825ef1c",
   "metadata": {},
   "source": [
    "so inorder to remove the outliers \n",
    "first we need to find the median in the given data and mark it as q2.\n",
    "then we have to find the median of the q2 from left and right and mark it as q1 and q3.\n",
    "so now we have 3 values q1,q2,q3.\n",
    "then we have to find the iqr(inter quartile range) which is q3-q1.\n",
    "then we have to find the ub(upper bound) and lb(lower bound).\n",
    "ub = q3+1.5 * iqr\n",
    "lb = q1-1.5 * iqr\n",
    "so after finding ub and lb now we have to remove the outliers.\n",
    "so the values lies above the ub(>ub) and less than lb(<lb) is considered as outliers."
   ]
  },
  {
   "cell_type": "code",
   "execution_count": 45,
   "id": "18bbe0a7-8a48-4270-85f2-78cd1a2afbc8",
   "metadata": {},
   "outputs": [],
   "source": [
    "#user defined function for outlier Treatment\n",
    "def remove_outlier(d,c):\n",
    "    # find q1 and q3\n",
    "    q1 = d[c].quantile(0.25)\n",
    "    q3 = d[c].quantile(0.75)\n",
    "\n",
    "# calculate the iqr\n",
    "    iqr = q3 - q1\n",
    "\n",
    "#calculate upper bound (ub) and lower bound(lb)\n",
    "    ub = q3+1.5 * iqr\n",
    "    lb = q1-1.5 * iqr\n",
    "\n",
    "#select good data and exclude outliers\n",
    "    good_data = d[(d[c]>lb) & (d[c]<ub)]\n",
    "    return good_data"
   ]
  },
  {
   "cell_type": "code",
   "execution_count": 51,
   "id": "37226530-971e-4a9d-8a7b-07f882ffe6bc",
   "metadata": {},
   "outputs": [
    {
     "data": {
      "image/png": "[encoded data removed]",
      "text/plain": [
       "<Figure size 640x480 with 1 Axes>"
      ]
     },
     "metadata": {},
     "output_type": "display_data"
    }
   ],
   "source": [
    "#remove outliers from Horsepower by calling remove_outlier function\n",
    "df = remove_outlier(df,'Horsepower')\n",
    "plt.boxplot(df['Horsepower'])\n",
    "plt.show()"
   ]
  },
  {
   "cell_type": "code",
   "execution_count": 57,
   "id": "d169dc94-1970-4276-a9e1-9ac23222caca",
   "metadata": {},
   "outputs": [
    {
     "data": {
      "image/png": "[encoded data removed]",
      "text/plain": [
       "<Figure size 640x480 with 1 Axes>"
      ]
     },
     "metadata": {},
     "output_type": "display_data"
    }
   ],
   "source": [
    "df = remove_outlier(df,'Acceleration')\n",
    "plt.boxplot(df['Acceleration'])\n",
    "plt.show()"
   ]
  },
  {
   "cell_type": "code",
   "execution_count": 59,
   "id": "7dc97304-1cbd-468a-b571-14743cfee696",
   "metadata": {},
   "outputs": [
    {
     "data": {
      "text/plain": [
       "(348, 9)"
      ]
     },
     "execution_count": 59,
     "metadata": {},
     "output_type": "execute_result"
    }
   ],
   "source": [
    "df.shape"
   ]
  },
  {
   "cell_type": "markdown",
   "id": "d0a6725c-c9be-4a07-b704-a45d6fb40be8",
   "metadata": {},
   "source": [
    "# EDA (Exploratory Data Analysis)"
   ]
  },
  {
   "cell_type": "markdown",
   "id": "c82da42a-0e64-43c4-9b95-3bc54e7f311c",
   "metadata": {},
   "source": [
    "* Distribution\n",
    "* Data mix\n",
    "* correlation\n",
    " ,EDA is like getting to know your data intimately before making any big moves—it lays the foundation for any solid analysis or predictive modeling."
   ]
  },
  {
   "cell_type": "code",
   "execution_count": 63,
   "id": "0518d8fb-1c91-44ce-b41a-edc93553ea04",
   "metadata": {},
   "outputs": [
    {
     "data": {
      "text/plain": [
       "Index(['MPG', 'Cylinders', 'Displacement', 'Horsepower', 'Weight',\n",
       "       'Acceleration', 'Model_year', 'Origin', 'Car_Name'],\n",
       "      dtype='object')"
      ]
     },
     "execution_count": 63,
     "metadata": {},
     "output_type": "execute_result"
    }
   ],
   "source": [
    "df.columns"
   ]
  },
  {
   "cell_type": "code",
   "execution_count": 65,
   "id": "b36f6108-f219-40e0-87cf-b5e2c491997a",
   "metadata": {},
   "outputs": [],
   "source": [
    "#'MPG''Displacement', 'Horsepower', 'Weight','Acceleration'"
   ]
  },
  {
   "cell_type": "code",
   "execution_count": 67,
   "id": "ef5f1cf7-e0a9-4bc4-911f-ee828400b036",
   "metadata": {},
   "outputs": [
    {
     "data": {
      "image/png": "[encoded data removed]",
      "text/plain": [
       "<Figure size 500x500 with 1 Axes>"
      ]
     },
     "metadata": {},
     "output_type": "display_data"
    }
   ],
   "source": [
    "sns.displot(df['MPG'])\n",
    "plt.show()"
   ]
  },
  {
   "cell_type": "code",
   "execution_count": 68,
   "id": "bf421ec5-49de-4330-a0fe-881e8a8ea5ce",
   "metadata": {},
   "outputs": [
    {
     "data": {
      "image/png": "[encoded data removed]",
      "text/plain": [
       "<Figure size 500x500 with 1 Axes>"
      ]
     },
     "metadata": {},
     "output_type": "display_data"
    }
   ],
   "source": [
    "sns.displot(df['Displacement'])\n",
    "plt.show()"
   ]
  },
  {
   "cell_type": "code",
   "execution_count": 70,
   "id": "d54a14fe-8751-4c75-a83c-82b244f6d393",
   "metadata": {},
   "outputs": [
    {
     "data": {
      "image/png": "[encoded data removed]",
      "text/plain": [
       "<Figure size 500x500 with 1 Axes>"
      ]
     },
     "metadata": {},
     "output_type": "display_data"
    }
   ],
   "source": [
    "sns.displot(df['Horsepower'])\n",
    "plt.show()"
   ]
  },
  {
   "cell_type": "code",
   "execution_count": 72,
   "id": "8627e7b9-58de-4414-b325-21ec0de82c02",
   "metadata": {},
   "outputs": [
    {
     "data": {
      "image/png": "[encoded data removed]",
      "text/plain": [
       "<Figure size 500x500 with 1 Axes>"
      ]
     },
     "metadata": {},
     "output_type": "display_data"
    }
   ],
   "source": [
    "sns.displot(df['Weight'])\n",
    "plt.show()"
   ]
  },
  {
   "cell_type": "code",
   "execution_count": 74,
   "id": "646ea211-e5a2-47b7-937e-0de81a065821",
   "metadata": {},
   "outputs": [
    {
     "data": {
      "image/png": "[encoded data removed]",
      "text/plain": [
       "<Figure size 500x500 with 1 Axes>"
      ]
     },
     "metadata": {},
     "output_type": "display_data"
    }
   ],
   "source": [
    "sns.displot(df['Acceleration'])\n",
    "plt.show()"
   ]
  },
  {
   "cell_type": "code",
   "execution_count": 76,
   "id": "2da82839-2d7e-46f8-8a3b-448cf81d65b5",
   "metadata": {},
   "outputs": [],
   "source": [
    "# Check datamix\n",
    "# checking the data mix helps ensure the data accurately reflects the relationships between variables\n",
    "# and the overall dataset structure. This is crucial for building robust models, \n",
    "# identifying potential biases, and ensuring that the data is suitable for the intended analysis or model. "
   ]
  },
  {
   "cell_type": "code",
   "execution_count": 79,
   "id": "22eff054-330f-4c05-b796-9c1f12531bc6",
   "metadata": {},
   "outputs": [],
   "source": [
    "#cylinders,'Model_year', 'Origin','Car_Name'"
   ]
  },
  {
   "cell_type": "code",
   "execution_count": 81,
   "id": "c649606a-63cf-439f-bab6-5edea86abb73",
   "metadata": {},
   "outputs": [
    {
     "data": {
      "text/plain": [
       "<Axes: xlabel='Cylinders'>"
      ]
     },
     "execution_count": 81,
     "metadata": {},
     "output_type": "execute_result"
    },
    {
     "data": {
      "image/png": "[encoded data removed]",
      "text/plain": [
       "<Figure size 640x480 with 1 Axes>"
      ]
     },
     "metadata": {},
     "output_type": "display_data"
    }
   ],
   "source": [
    "df.groupby('Cylinders')['Cylinders'].count().plot(kind='bar')"
   ]
  },
  {
   "cell_type": "code",
   "execution_count": 83,
   "id": "8f3dd105-e505-4f12-a88a-bb483b8bca2d",
   "metadata": {},
   "outputs": [
    {
     "data": {
      "text/plain": [
       "<Axes: xlabel='Model_year'>"
      ]
     },
     "execution_count": 83,
     "metadata": {},
     "output_type": "execute_result"
    },
    {
     "data": {
      "image/png": "[encoded data removed]",
      "text/plain": [
       "<Figure size 640x480 with 1 Axes>"
      ]
     },
     "metadata": {},
     "output_type": "display_data"
    }
   ],
   "source": [
    "df.groupby('Model_year')['Model_year'].count().plot(kind = 'bar')"
   ]
  },
  {
   "cell_type": "code",
   "execution_count": 85,
   "id": "88304ca3-426f-41dc-bc77-2bce59120e85",
   "metadata": {},
   "outputs": [
    {
     "data": {
      "text/plain": [
       "<Axes: xlabel='Origin'>"
      ]
     },
     "execution_count": 85,
     "metadata": {},
     "output_type": "execute_result"
    },
    {
     "data": {
      "image/png": "[encoded data removed]",
      "text/plain": [
       "<Figure size 640x480 with 1 Axes>"
      ]
     },
     "metadata": {},
     "output_type": "display_data"
    }
   ],
   "source": [
    "df.groupby('Origin')['Origin'].count().plot(kind = 'bar')"
   ]
  },
  {
   "cell_type": "code",
   "execution_count": 87,
   "id": "eb388f7a-ab95-4fa1-bd9b-403702fc8762",
   "metadata": {},
   "outputs": [
    {
     "data": {
      "text/plain": [
       "<Axes: xlabel='Car_Name'>"
      ]
     },
     "execution_count": 87,
     "metadata": {},
     "output_type": "execute_result"
    },
    {
     "data": {
      "image/png": "[encoded data removed]",
      "text/plain": [
       "<Figure size 640x480 with 1 Axes>"
      ]
     },
     "metadata": {},
     "output_type": "display_data"
    }
   ],
   "source": [
    "df.groupby('Car_Name')['Car_Name'].count().plot(kind = 'bar')"
   ]
  },
  {
   "cell_type": "markdown",
   "id": "cc5f2a50-5ed4-4337-8e2d-2b0c20b5cddb",
   "metadata": {},
   "source": [
    "# Pearson Correlation"
   ]
  },
  {
   "cell_type": "markdown",
   "id": "f90852ae-4e81-4c96-8cc6-b74c67067a58",
   "metadata": {},
   "source": [
    "create a set of neumeric columns"
   ]
  },
  {
   "cell_type": "code",
   "execution_count": 91,
   "id": "b532aabe-8130-4532-a543-7cfc26b99904",
   "metadata": {},
   "outputs": [
    {
     "data": {
      "text/html": [
       "<div>\n",
       "<style scoped>\n",
       "    .dataframe tbody tr th:only-of-type {\n",
       "        vertical-align: middle;\n",
       "    }\n",
       "\n",
       "    .dataframe tbody tr th {\n",
       "        vertical-align: top;\n",
       "    }\n",
       "\n",
       "    .dataframe thead th {\n",
       "        text-align: right;\n",
       "    }\n",
       "</style>\n",
       "<table border=\"1\" class=\"dataframe\">\n",
       "  <thead>\n",
       "    <tr style=\"text-align: right;\">\n",
       "      <th></th>\n",
       "      <th>MPG</th>\n",
       "      <th>Cylinders</th>\n",
       "      <th>Displacement</th>\n",
       "      <th>Horsepower</th>\n",
       "      <th>Weight</th>\n",
       "      <th>Acceleration</th>\n",
       "      <th>Model_year</th>\n",
       "      <th>Origin</th>\n",
       "    </tr>\n",
       "  </thead>\n",
       "  <tbody>\n",
       "    <tr>\n",
       "      <th>0</th>\n",
       "      <td>8.0</td>\n",
       "      <td>8</td>\n",
       "      <td>307.0</td>\n",
       "      <td>130.0</td>\n",
       "      <td>3504</td>\n",
       "      <td>12.0</td>\n",
       "      <td>2015</td>\n",
       "      <td>1</td>\n",
       "    </tr>\n",
       "    <tr>\n",
       "      <th>2</th>\n",
       "      <td>18.0</td>\n",
       "      <td>8</td>\n",
       "      <td>318.0</td>\n",
       "      <td>150.0</td>\n",
       "      <td>3436</td>\n",
       "      <td>11.0</td>\n",
       "      <td>2015</td>\n",
       "      <td>1</td>\n",
       "    </tr>\n",
       "    <tr>\n",
       "      <th>3</th>\n",
       "      <td>16.0</td>\n",
       "      <td>8</td>\n",
       "      <td>304.0</td>\n",
       "      <td>150.0</td>\n",
       "      <td>3433</td>\n",
       "      <td>12.0</td>\n",
       "      <td>2015</td>\n",
       "      <td>1</td>\n",
       "    </tr>\n",
       "    <tr>\n",
       "      <th>4</th>\n",
       "      <td>17.0</td>\n",
       "      <td>8</td>\n",
       "      <td>302.0</td>\n",
       "      <td>140.0</td>\n",
       "      <td>3449</td>\n",
       "      <td>10.5</td>\n",
       "      <td>2015</td>\n",
       "      <td>1</td>\n",
       "    </tr>\n",
       "    <tr>\n",
       "      <th>14</th>\n",
       "      <td>24.0</td>\n",
       "      <td>4</td>\n",
       "      <td>113.0</td>\n",
       "      <td>95.0</td>\n",
       "      <td>2372</td>\n",
       "      <td>15.0</td>\n",
       "      <td>2015</td>\n",
       "      <td>3</td>\n",
       "    </tr>\n",
       "  </tbody>\n",
       "</table>\n",
       "</div>"
      ],
      "text/plain": [
       "     MPG  Cylinders  Displacement  Horsepower  Weight  Acceleration  \\\n",
       "0    8.0          8         307.0       130.0    3504          12.0   \n",
       "2   18.0          8         318.0       150.0    3436          11.0   \n",
       "3   16.0          8         304.0       150.0    3433          12.0   \n",
       "4   17.0          8         302.0       140.0    3449          10.5   \n",
       "14  24.0          4         113.0        95.0    2372          15.0   \n",
       "\n",
       "    Model_year  Origin  \n",
       "0         2015       1  \n",
       "2         2015       1  \n",
       "3         2015       1  \n",
       "4         2015       1  \n",
       "14        2015       3  "
      ]
     },
     "execution_count": 91,
     "metadata": {},
     "output_type": "execute_result"
    }
   ],
   "source": [
    "df_numeric = df.select_dtypes(include = ['int32','int64','float32','float64'])\n",
    "df_numeric.head()"
   ]
  },
  {
   "cell_type": "markdown",
   "id": "372b1603-0e5e-41c1-ac7a-dacdd8ca2f43",
   "metadata": {},
   "source": [
    "here in the given numeric variable some of them are catagorical\n",
    "Cylinders , Model_year , Origin\n",
    "so we have to drop those catagorical columns"
   ]
  },
  {
   "cell_type": "code",
   "execution_count": 94,
   "id": "eddc5f2a-880b-406f-8941-ada744db1762",
   "metadata": {},
   "outputs": [
    {
     "data": {
      "text/html": [
       "<div>\n",
       "<style scoped>\n",
       "    .dataframe tbody tr th:only-of-type {\n",
       "        vertical-align: middle;\n",
       "    }\n",
       "\n",
       "    .dataframe tbody tr th {\n",
       "        vertical-align: top;\n",
       "    }\n",
       "\n",
       "    .dataframe thead th {\n",
       "        text-align: right;\n",
       "    }\n",
       "</style>\n",
       "<table border=\"1\" class=\"dataframe\">\n",
       "  <thead>\n",
       "    <tr style=\"text-align: right;\">\n",
       "      <th></th>\n",
       "      <th>MPG</th>\n",
       "      <th>Displacement</th>\n",
       "      <th>Horsepower</th>\n",
       "      <th>Weight</th>\n",
       "      <th>Acceleration</th>\n",
       "    </tr>\n",
       "  </thead>\n",
       "  <tbody>\n",
       "    <tr>\n",
       "      <th>0</th>\n",
       "      <td>8.0</td>\n",
       "      <td>307.0</td>\n",
       "      <td>130.0</td>\n",
       "      <td>3504</td>\n",
       "      <td>12.0</td>\n",
       "    </tr>\n",
       "    <tr>\n",
       "      <th>2</th>\n",
       "      <td>18.0</td>\n",
       "      <td>318.0</td>\n",
       "      <td>150.0</td>\n",
       "      <td>3436</td>\n",
       "      <td>11.0</td>\n",
       "    </tr>\n",
       "    <tr>\n",
       "      <th>3</th>\n",
       "      <td>16.0</td>\n",
       "      <td>304.0</td>\n",
       "      <td>150.0</td>\n",
       "      <td>3433</td>\n",
       "      <td>12.0</td>\n",
       "    </tr>\n",
       "    <tr>\n",
       "      <th>4</th>\n",
       "      <td>17.0</td>\n",
       "      <td>302.0</td>\n",
       "      <td>140.0</td>\n",
       "      <td>3449</td>\n",
       "      <td>10.5</td>\n",
       "    </tr>\n",
       "    <tr>\n",
       "      <th>14</th>\n",
       "      <td>24.0</td>\n",
       "      <td>113.0</td>\n",
       "      <td>95.0</td>\n",
       "      <td>2372</td>\n",
       "      <td>15.0</td>\n",
       "    </tr>\n",
       "  </tbody>\n",
       "</table>\n",
       "</div>"
      ],
      "text/plain": [
       "     MPG  Displacement  Horsepower  Weight  Acceleration\n",
       "0    8.0         307.0       130.0    3504          12.0\n",
       "2   18.0         318.0       150.0    3436          11.0\n",
       "3   16.0         304.0       150.0    3433          12.0\n",
       "4   17.0         302.0       140.0    3449          10.5\n",
       "14  24.0         113.0        95.0    2372          15.0"
      ]
     },
     "execution_count": 94,
     "metadata": {},
     "output_type": "execute_result"
    }
   ],
   "source": [
    "df_numeric = df_numeric.drop(['Cylinders','Model_year','Origin'],axis = 1)\n",
    "df_numeric.head()"
   ]
  },
  {
   "cell_type": "markdown",
   "id": "2b94985c-d2aa-43b9-9fdc-bf307a6b7f9c",
   "metadata": {},
   "source": [
    "here we have given axis =1 to delete the entire column of the selected data.\n",
    "if we had to delete only a particular data of that column we could have used axis  = 0 wihich selects the row."
   ]
  },
  {
   "cell_type": "markdown",
   "id": "3ef49fd4-90c0-4127-8360-7c7224b4035b",
   "metadata": {},
   "source": [
    "# creating the heat map"
   ]
  },
  {
   "cell_type": "markdown",
   "id": "edf88958-bc8a-4791-9422-18e6c9ac18a4",
   "metadata": {},
   "source": [
    "Heatmap data visualization is a powerful tool used to represent numerical data graphically,\n",
    "where values are depicted using colors. \n",
    "This method is particularly effective for identifying patterns, trends, and anomalies within large datasets.\n",
    "\n",
    "Heatmaps are used to show relationships between two variables, one plotted on each axis. By observing how cell colors change across each axis, you can observe if there are any patterns in value for one or both variables."
   ]
  },
  {
   "cell_type": "code",
   "execution_count": 99,
   "id": "ede76324-2554-4d5c-967c-37d9855f904a",
   "metadata": {},
   "outputs": [
    {
     "data": {
      "text/plain": [
       "<Axes: >"
      ]
     },
     "execution_count": 99,
     "metadata": {},
     "output_type": "execute_result"
    },
    {
     "data": {
      "image/png": "[encoded data removed]",
      "text/plain": [
       "<Figure size 640x480 with 2 Axes>"
      ]
     },
     "metadata": {},
     "output_type": "display_data"
    }
   ],
   "source": [
    "sns.heatmap(df_numeric.corr(),cmap='YlGnBu', annot=True)"
   ]
  },
  {
   "cell_type": "markdown",
   "id": "60e07b33-c9d8-4dba-9bd4-8c7cfbbc8ed6",
   "metadata": {},
   "source": [
    "..................End of EDA ................."
   ]
  },
  {
   "cell_type": "markdown",
   "id": "98c49667-210c-4d40-ba49-6724e552009d",
   "metadata": {},
   "source": [
    "# Dummy Conversion (One-hot encoding)"
   ]
  },
  {
   "cell_type": "code",
   "execution_count": 119,
   "id": "0b0f588c-1936-4fbb-9e0c-220cb13afd5b",
   "metadata": {},
   "outputs": [],
   "source": [
    "# One-hot encoding, also known as dummy conversion, \n",
    "# is used in Python machine learning to convert categorical data into a numerical format that machine learning algorithms\n",
    "# can understand and process effectively."
   ]
  },
  {
   "cell_type": "code",
   "execution_count": null,
   "id": "91ec3442-1ade-46fe-a8a3-57206bb38d9c",
   "metadata": {},
   "outputs": [],
   "source": [
    "#remove model year as it dosen't signify anything in terms of impact on target variable\n",
    "df = df.drop('Model_year', axis = 1)"
   ]
  },
  {
   "cell_type": "code",
   "execution_count": 125,
   "id": "14fb6d75-8313-45aa-aab5-0ad26fd66ab0",
   "metadata": {},
   "outputs": [
    {
     "data": {
      "text/plain": [
       "MPG             float64\n",
       "Cylinders         int64\n",
       "Displacement    float64\n",
       "Horsepower      float64\n",
       "Weight            int64\n",
       "Acceleration    float64\n",
       "Origin            int64\n",
       "Car_Name         object\n",
       "dtype: object"
      ]
     },
     "execution_count": 125,
     "metadata": {},
     "output_type": "execute_result"
    }
   ],
   "source": [
    "df.dtypes"
   ]
  },
  {
   "cell_type": "code",
   "execution_count": 127,
   "id": "89fb0e6a-b4c0-44de-823a-7b1b0a5f1b70",
   "metadata": {},
   "outputs": [],
   "source": [
    "# here cylinders and Origin is a neumerical variable but it should be a catagorical variable.\n",
    "# so we have to convert both of them to catagorical.\n",
    "df['Cylinders'] = df['Cylinders'].astype('object') # converting neumerical data to object\n",
    "df['Origin'] = df['Origin'].astype('object')"
   ]
  },
  {
   "cell_type": "code",
   "execution_count": 129,
   "id": "6ac8987f-0d2e-4bfe-87c4-5570ea3a1d39",
   "metadata": {},
   "outputs": [
    {
     "data": {
      "text/plain": [
       "MPG             float64\n",
       "Cylinders        object\n",
       "Displacement    float64\n",
       "Horsepower      float64\n",
       "Weight            int64\n",
       "Acceleration    float64\n",
       "Origin           object\n",
       "Car_Name         object\n",
       "dtype: object"
      ]
     },
     "execution_count": 129,
     "metadata": {},
     "output_type": "execute_result"
    }
   ],
   "source": [
    "df.dtypes"
   ]
  },
  {
   "cell_type": "code",
   "execution_count": 131,
   "id": "3a55d1e4-de6c-4e3c-9efb-5c3e15a934e6",
   "metadata": {},
   "outputs": [
    {
     "data": {
      "text/html": [
       "<div>\n",
       "<style scoped>\n",
       "    .dataframe tbody tr th:only-of-type {\n",
       "        vertical-align: middle;\n",
       "    }\n",
       "\n",
       "    .dataframe tbody tr th {\n",
       "        vertical-align: top;\n",
       "    }\n",
       "\n",
       "    .dataframe thead th {\n",
       "        text-align: right;\n",
       "    }\n",
       "</style>\n",
       "<table border=\"1\" class=\"dataframe\">\n",
       "  <thead>\n",
       "    <tr style=\"text-align: right;\">\n",
       "      <th></th>\n",
       "      <th>Cylinders</th>\n",
       "      <th>Origin</th>\n",
       "      <th>Car_Name</th>\n",
       "    </tr>\n",
       "  </thead>\n",
       "  <tbody>\n",
       "    <tr>\n",
       "      <th>0</th>\n",
       "      <td>8</td>\n",
       "      <td>1</td>\n",
       "      <td>chevrolet</td>\n",
       "    </tr>\n",
       "    <tr>\n",
       "      <th>2</th>\n",
       "      <td>8</td>\n",
       "      <td>1</td>\n",
       "      <td>plymouth</td>\n",
       "    </tr>\n",
       "    <tr>\n",
       "      <th>3</th>\n",
       "      <td>8</td>\n",
       "      <td>1</td>\n",
       "      <td>amc</td>\n",
       "    </tr>\n",
       "    <tr>\n",
       "      <th>4</th>\n",
       "      <td>8</td>\n",
       "      <td>1</td>\n",
       "      <td>ford</td>\n",
       "    </tr>\n",
       "    <tr>\n",
       "      <th>14</th>\n",
       "      <td>4</td>\n",
       "      <td>3</td>\n",
       "      <td>toyota</td>\n",
       "    </tr>\n",
       "  </tbody>\n",
       "</table>\n",
       "</div>"
      ],
      "text/plain": [
       "   Cylinders Origin   Car_Name\n",
       "0          8      1  chevrolet\n",
       "2          8      1   plymouth\n",
       "3          8      1        amc\n",
       "4          8      1       ford\n",
       "14         4      3     toyota"
      ]
     },
     "execution_count": 131,
     "metadata": {},
     "output_type": "execute_result"
    }
   ],
   "source": [
    "#Create a new df to store categorical variables for dummy conversion\n",
    "df_catagorical = df.select_dtypes(include = 'object')\n",
    "df_catagorical.head()"
   ]
  },
  {
   "cell_type": "code",
   "execution_count": 133,
   "id": "9950eb75-594a-41d0-9204-16e05606a7a0",
   "metadata": {},
   "outputs": [
    {
     "data": {
      "text/html": [
       "<div>\n",
       "<style scoped>\n",
       "    .dataframe tbody tr th:only-of-type {\n",
       "        vertical-align: middle;\n",
       "    }\n",
       "\n",
       "    .dataframe tbody tr th {\n",
       "        vertical-align: top;\n",
       "    }\n",
       "\n",
       "    .dataframe thead th {\n",
       "        text-align: right;\n",
       "    }\n",
       "</style>\n",
       "<table border=\"1\" class=\"dataframe\">\n",
       "  <thead>\n",
       "    <tr style=\"text-align: right;\">\n",
       "      <th></th>\n",
       "      <th>Cylinders_4</th>\n",
       "      <th>Cylinders_5</th>\n",
       "      <th>Cylinders_6</th>\n",
       "      <th>Cylinders_8</th>\n",
       "      <th>Origin_2</th>\n",
       "      <th>Origin_3</th>\n",
       "      <th>Car_Name_audi</th>\n",
       "      <th>Car_Name_bmw</th>\n",
       "      <th>Car_Name_buick</th>\n",
       "      <th>Car_Name_cadillac</th>\n",
       "      <th>...</th>\n",
       "      <th>Car_Name_opel</th>\n",
       "      <th>Car_Name_peugeot</th>\n",
       "      <th>Car_Name_plymouth</th>\n",
       "      <th>Car_Name_pontiac</th>\n",
       "      <th>Car_Name_renault</th>\n",
       "      <th>Car_Name_saab</th>\n",
       "      <th>Car_Name_toyota</th>\n",
       "      <th>Car_Name_triumph</th>\n",
       "      <th>Car_Name_volkswagen</th>\n",
       "      <th>Car_Name_volvo</th>\n",
       "    </tr>\n",
       "  </thead>\n",
       "  <tbody>\n",
       "    <tr>\n",
       "      <th>0</th>\n",
       "      <td>False</td>\n",
       "      <td>False</td>\n",
       "      <td>False</td>\n",
       "      <td>True</td>\n",
       "      <td>False</td>\n",
       "      <td>False</td>\n",
       "      <td>False</td>\n",
       "      <td>False</td>\n",
       "      <td>False</td>\n",
       "      <td>False</td>\n",
       "      <td>...</td>\n",
       "      <td>False</td>\n",
       "      <td>False</td>\n",
       "      <td>False</td>\n",
       "      <td>False</td>\n",
       "      <td>False</td>\n",
       "      <td>False</td>\n",
       "      <td>False</td>\n",
       "      <td>False</td>\n",
       "      <td>False</td>\n",
       "      <td>False</td>\n",
       "    </tr>\n",
       "    <tr>\n",
       "      <th>2</th>\n",
       "      <td>False</td>\n",
       "      <td>False</td>\n",
       "      <td>False</td>\n",
       "      <td>True</td>\n",
       "      <td>False</td>\n",
       "      <td>False</td>\n",
       "      <td>False</td>\n",
       "      <td>False</td>\n",
       "      <td>False</td>\n",
       "      <td>False</td>\n",
       "      <td>...</td>\n",
       "      <td>False</td>\n",
       "      <td>False</td>\n",
       "      <td>True</td>\n",
       "      <td>False</td>\n",
       "      <td>False</td>\n",
       "      <td>False</td>\n",
       "      <td>False</td>\n",
       "      <td>False</td>\n",
       "      <td>False</td>\n",
       "      <td>False</td>\n",
       "    </tr>\n",
       "    <tr>\n",
       "      <th>3</th>\n",
       "      <td>False</td>\n",
       "      <td>False</td>\n",
       "      <td>False</td>\n",
       "      <td>True</td>\n",
       "      <td>False</td>\n",
       "      <td>False</td>\n",
       "      <td>False</td>\n",
       "      <td>False</td>\n",
       "      <td>False</td>\n",
       "      <td>False</td>\n",
       "      <td>...</td>\n",
       "      <td>False</td>\n",
       "      <td>False</td>\n",
       "      <td>False</td>\n",
       "      <td>False</td>\n",
       "      <td>False</td>\n",
       "      <td>False</td>\n",
       "      <td>False</td>\n",
       "      <td>False</td>\n",
       "      <td>False</td>\n",
       "      <td>False</td>\n",
       "    </tr>\n",
       "    <tr>\n",
       "      <th>4</th>\n",
       "      <td>False</td>\n",
       "      <td>False</td>\n",
       "      <td>False</td>\n",
       "      <td>True</td>\n",
       "      <td>False</td>\n",
       "      <td>False</td>\n",
       "      <td>False</td>\n",
       "      <td>False</td>\n",
       "      <td>False</td>\n",
       "      <td>False</td>\n",
       "      <td>...</td>\n",
       "      <td>False</td>\n",
       "      <td>False</td>\n",
       "      <td>False</td>\n",
       "      <td>False</td>\n",
       "      <td>False</td>\n",
       "      <td>False</td>\n",
       "      <td>False</td>\n",
       "      <td>False</td>\n",
       "      <td>False</td>\n",
       "      <td>False</td>\n",
       "    </tr>\n",
       "    <tr>\n",
       "      <th>14</th>\n",
       "      <td>True</td>\n",
       "      <td>False</td>\n",
       "      <td>False</td>\n",
       "      <td>False</td>\n",
       "      <td>False</td>\n",
       "      <td>True</td>\n",
       "      <td>False</td>\n",
       "      <td>False</td>\n",
       "      <td>False</td>\n",
       "      <td>False</td>\n",
       "      <td>...</td>\n",
       "      <td>False</td>\n",
       "      <td>False</td>\n",
       "      <td>False</td>\n",
       "      <td>False</td>\n",
       "      <td>False</td>\n",
       "      <td>False</td>\n",
       "      <td>True</td>\n",
       "      <td>False</td>\n",
       "      <td>False</td>\n",
       "      <td>False</td>\n",
       "    </tr>\n",
       "  </tbody>\n",
       "</table>\n",
       "<p>5 rows × 32 columns</p>\n",
       "</div>"
      ],
      "text/plain": [
       "    Cylinders_4  Cylinders_5  Cylinders_6  Cylinders_8  Origin_2  Origin_3  \\\n",
       "0         False        False        False         True     False     False   \n",
       "2         False        False        False         True     False     False   \n",
       "3         False        False        False         True     False     False   \n",
       "4         False        False        False         True     False     False   \n",
       "14         True        False        False        False     False      True   \n",
       "\n",
       "    Car_Name_audi  Car_Name_bmw  Car_Name_buick  Car_Name_cadillac  ...  \\\n",
       "0           False         False           False              False  ...   \n",
       "2           False         False           False              False  ...   \n",
       "3           False         False           False              False  ...   \n",
       "4           False         False           False              False  ...   \n",
       "14          False         False           False              False  ...   \n",
       "\n",
       "    Car_Name_opel  Car_Name_peugeot  Car_Name_plymouth  Car_Name_pontiac  \\\n",
       "0           False             False              False             False   \n",
       "2           False             False               True             False   \n",
       "3           False             False              False             False   \n",
       "4           False             False              False             False   \n",
       "14          False             False              False             False   \n",
       "\n",
       "    Car_Name_renault  Car_Name_saab  Car_Name_toyota  Car_Name_triumph  \\\n",
       "0              False          False            False             False   \n",
       "2              False          False            False             False   \n",
       "3              False          False            False             False   \n",
       "4              False          False            False             False   \n",
       "14             False          False             True             False   \n",
       "\n",
       "    Car_Name_volkswagen  Car_Name_volvo  \n",
       "0                 False           False  \n",
       "2                 False           False  \n",
       "3                 False           False  \n",
       "4                 False           False  \n",
       "14                False           False  \n",
       "\n",
       "[5 rows x 32 columns]"
      ]
     },
     "execution_count": 133,
     "metadata": {},
     "output_type": "execute_result"
    }
   ],
   "source": [
    "df_dummy = pd.get_dummies(df_catagorical,drop_first = True)\n",
    "df_dummy.head()"
   ]
  },
  {
   "cell_type": "markdown",
   "id": "c61569f8-3ebc-42c7-b89a-5608b4de9e03",
   "metadata": {},
   "source": [
    "* Q: Why do we remove the first column of encoded variable(in dummy conversion)?\n",
    "* Ans :\n",
    "  * 1)Removing the first column dosen't impact the output because absence of all other variables represent the presence of the first one.\n",
    "  * 2) it also eliminates the risk of multicolinearity."
   ]
  },
  {
   "cell_type": "code",
   "execution_count": 137,
   "id": "05ff1db9-0270-42f9-b761-cd2f50f8fe71",
   "metadata": {},
   "outputs": [],
   "source": [
    "#combine data from df_numeric and df_dummy\n",
    "df_final = pd.concat([df_numeric,df_dummy],axis = 1)\n",
    "df_final.head()\n",
    "# export the final data to excel\n",
    "df_final.to_excel(r\"D:\\Data Science\\Introtallent\\python practice\\ML Projects\\vehicle_mileage.xlsx\")"
   ]
  },
  {
   "cell_type": "markdown",
   "id": "ceaf990b-4b7b-4880-b1bb-7b7f942b8f8f",
   "metadata": {},
   "source": [
    "# training the algorithum using the prepared data set"
   ]
  },
  {
   "cell_type": "code",
   "execution_count": 154,
   "id": "29b6353a-5ee0-4019-b640-0ed176033f11",
   "metadata": {},
   "outputs": [],
   "source": [
    "# create x and y\n",
    "x = df_final.drop('MPG',axis = 1)\n",
    "y = df_final['MPG']"
   ]
  },
  {
   "cell_type": "code",
   "execution_count": 156,
   "id": "50cd72c0-010f-49a9-8825-54964801b7d2",
   "metadata": {},
   "outputs": [],
   "source": [
    "# training and testing\n",
    "xtrain,xtest,ytrain,ytest = train_test_split(x,y,test_size = 0.3,train_size = 0.7, random_state = 0)"
   ]
  },
  {
   "cell_type": "code",
   "execution_count": 158,
   "id": "afbc7a8e-fb93-4c2e-b534-7bff49b76c48",
   "metadata": {},
   "outputs": [
    {
     "name": "stdout",
     "output_type": "stream",
     "text": [
      "(243, 36) (105, 36) (243,) (105,)\n"
     ]
    }
   ],
   "source": [
    "# checking the sample size\n",
    "print(xtrain.shape,xtest.shape,ytrain.shape,ytest.shape)"
   ]
  },
  {
   "cell_type": "code",
   "execution_count": null,
   "id": "09bc0c34-21a8-4a45-b6cf-88e13a0a6014",
   "metadata": {},
   "outputs": [],
   "source": []
  },
  {
   "cell_type": "markdown",
   "id": "2944df43-2afd-402b-a803-b0dc1fbc935e",
   "metadata": {},
   "source": [
    "# Feature Selection"
   ]
  },
  {
   "cell_type": "code",
   "execution_count": null,
   "id": "286f158d-9826-41b5-87de-3b322ee1abc7",
   "metadata": {},
   "outputs": [],
   "source": [
    "# In machine learning, feature selection is the process of selecting a subset of relevant features (or variables) from an original dataset\n",
    "# to build a model. The goal is to identify and retain the most informative features while discarding those that are irrelevant, redundant, or noisy. \n",
    "# This helps improve model performance, 0\n",
    "# reduce overfitting, and enhance generalization. it is also the process of selecting significant features."
   ]
  },
  {
   "cell_type": "code",
   "execution_count": 161,
   "id": "f44ecdb5-9162-4c07-b355-3fc6d2fa14fd",
   "metadata": {},
   "outputs": [],
   "source": [
    "# select the key_features object to select the top k features\n",
    "# to select the 5 significant features\n",
    "key_features = SelectKBest(score_func = f_regression, k=5)\n",
    "\n",
    "#fit the key_features to the training data and transform it\n",
    "xtrain_selected = key_features.fit_transform(xtrain,ytrain)\n",
    "\n",
    "#get the indices of the selected features\n",
    "selected_indices = key_features.get_support(indices=True)\n",
    "\n",
    "# Get the names of the selected feature\n",
    "selected_features = xtrain.columns[selected_indices]"
   ]
  },
  {
   "cell_type": "code",
   "execution_count": 163,
   "id": "55914265-2429-4f23-983f-8ac088b9fe63",
   "metadata": {},
   "outputs": [
    {
     "data": {
      "text/plain": [
       "Index(['Displacement', 'Horsepower', 'Weight', 'Cylinders_4', 'Cylinders_8'], dtype='object')"
      ]
     },
     "execution_count": 163,
     "metadata": {},
     "output_type": "execute_result"
    }
   ],
   "source": [
    "#print the significant variables\n",
    "selected_features"
   ]
  },
  {
   "cell_type": "markdown",
   "id": "74cb2edd-20f1-4d16-b5a5-e0694e379f55",
   "metadata": {},
   "source": [
    "# Build Linear Regression Model"
   ]
  },
  {
   "cell_type": "code",
   "execution_count": null,
   "id": "667fe423-8212-4ed7-9e45-8784dbeed27d",
   "metadata": {},
   "outputs": [],
   "source": [
    "# Regression is used to understand the relationship between 2 variables.\n",
    "# Linear regression is a statistical method used to model the relationship between a dependent variable and one or more independent variables.\n",
    "# it is maily used for find the relation between the continous variables."
   ]
  },
  {
   "cell_type": "markdown",
   "id": "85d09918-1d50-48e6-a7bf-221d01be04de",
   "metadata": {},
   "source": [
    "# train model using selected Features"
   ]
  },
  {
   "cell_type": "code",
   "execution_count": 167,
   "id": "8e2aa7c6-92e0-4289-afa5-90e8188c854a",
   "metadata": {},
   "outputs": [
    {
     "data": {
      "text/plain": [
       "0.6897771260647163"
      ]
     },
     "execution_count": 167,
     "metadata": {},
     "output_type": "execute_result"
    }
   ],
   "source": [
    "# initialise the linear regression model\n",
    "linreg = LinearRegression()\n",
    "\n",
    "# fit the model using training dataset\n",
    "linreg.fit(xtrain_selected,ytrain)\n",
    "\n",
    "#print the accuracy (R-squarred) of training model\n",
    "linreg.score(xtrain_selected,ytrain)"
   ]
  },
  {
   "cell_type": "markdown",
   "id": "e9bed35e-a777-49f7-851c-f7fbd74cc845",
   "metadata": {},
   "source": [
    "# Test the model built above (using xtest_selected)"
   ]
  },
  {
   "cell_type": "code",
   "execution_count": 170,
   "id": "eb23b844-3b39-4580-acda-7faac83744d6",
   "metadata": {},
   "outputs": [],
   "source": [
    "# create xtest_selected using the selected features\n",
    "xtest_selected = xtest.iloc[:,selected_indices]"
   ]
  },
  {
   "cell_type": "markdown",
   "id": "609ff62c-dec9-45ed-a40a-aa10656a2331",
   "metadata": {},
   "source": [
    "# Predict MPG"
   ]
  },
  {
   "cell_type": "code",
   "execution_count": 173,
   "id": "0659caeb-910f-4d92-881e-44944bf87f1b",
   "metadata": {},
   "outputs": [
    {
     "name": "stderr",
     "output_type": "stream",
     "text": [
      "C:\\Users\\aparn\\anaconda3\\Lib\\site-packages\\sklearn\\base.py:486: UserWarning: X has feature names, but LinearRegression was fitted without feature names\n",
      "  warnings.warn(\n",
      "C:\\Users\\aparn\\anaconda3\\Lib\\site-packages\\sklearn\\base.py:486: UserWarning: X has feature names, but LinearRegression was fitted without feature names\n",
      "  warnings.warn(\n"
     ]
    },
    {
     "data": {
      "text/plain": [
       "0.7313882176371755"
      ]
     },
     "execution_count": 173,
     "metadata": {},
     "output_type": "execute_result"
    }
   ],
   "source": [
    "# predict the mileage based on xtest\n",
    "predicted_mpg = linreg.predict(xtest_selected)\n",
    "\n",
    "# check accuracy of the model\n",
    "linreg.score(xtest_selected,ytest)"
   ]
  },
  {
   "cell_type": "code",
   "execution_count": null,
   "id": "8f258b7d-55bb-40b2-ac44-0460860cf2e2",
   "metadata": {},
   "outputs": [],
   "source": [
    "# Q) what was the accuracy of the model\n",
    "# ans) my model has an accuracy of 0.7\n",
    "#follow up qs\n",
    "# Q) so what do you think is this a good accuracy\n",
    "# ans) yes, this accuracy is good for the given sample.the sample size was 388 rows and 15 columns.  "
   ]
  },
  {
   "cell_type": "code",
   "execution_count": 175,
   "id": "461a13f4-d70e-4522-82d0-93a42e55acb8",
   "metadata": {},
   "outputs": [
    {
     "data": {
      "text/plain": [
       "array([21.90668297, 24.32579999, 25.48870519, 12.58344026, 32.85011582,\n",
       "       18.80717225, 30.51109153, 27.734928  , 20.29619105, 31.1798268 ,\n",
       "       30.96720392, 19.8697733 , 27.62288236, 29.9678766 , 21.82783685,\n",
       "       26.20384543, 27.35699701, 20.51037346, 17.81197754, 30.61786128,\n",
       "       18.72319385, 31.06151534, 31.13648902, 12.30825506, 29.3682807 ,\n",
       "       19.69072813, 29.10390319, 25.39495392, 28.60445756, 17.10309802,\n",
       "       15.7157347 , 29.20446272, 26.10729179, 29.52828856, 30.37963239,\n",
       "       17.44489876, 26.6862488 , 14.75336405, 27.69812068, 18.80384234,\n",
       "       24.40023411, 32.61547693, 31.3566412 , 15.47039486, 17.41541304,\n",
       "       15.42439897, 18.22059711, 29.78792362, 24.27958852, 30.24838447,\n",
       "       20.87945681, 27.37051605, 30.66552535, 23.44797293, 12.60073653,\n",
       "       32.42635791, 14.33136526, 26.56892936, 10.81412898, 29.59628012,\n",
       "       21.07168081, 30.17658717, 28.12207227, 32.65948424, 25.36401207,\n",
       "       14.24544806, 22.33150421, 21.12171629, 17.41872789, 15.9873388 ,\n",
       "       29.97144434, 26.13049332, 31.15063326, 19.31009887, 27.89969594,\n",
       "       21.37764979, 16.28932215, 29.25891978, 29.6635133 , 15.16936129,\n",
       "       31.5041285 , 30.81043903, 21.63139103, 20.32497606, 25.59607297,\n",
       "       22.09712332, 31.20672943, 29.69087197, 12.80836795, 17.02101621,\n",
       "       27.67411626, 18.63888725, 29.75486218, 30.67127727, 28.23117309,\n",
       "       28.07771566, 31.07859776, 13.56157462, 29.54383843, 21.82896459,\n",
       "       20.77373459, 26.49588167, 30.02771857, 29.67979946, 27.828935  ])"
      ]
     },
     "execution_count": 175,
     "metadata": {},
     "output_type": "execute_result"
    }
   ],
   "source": [
    "# print the predicted mileage\n",
    "import numpy as np\n",
    "predicted_mpg"
   ]
  },
  {
   "cell_type": "code",
   "execution_count": 177,
   "id": "a83b9290-64e3-4944-bea9-8393b5ceb4e4",
   "metadata": {},
   "outputs": [
    {
     "name": "stdout",
     "output_type": "stream",
     "text": [
      "40.64814156979033\n"
     ]
    }
   ],
   "source": [
    "#print 80\n",
    "print(linreg.intercept_)"
   ]
  },
  {
   "cell_type": "code",
   "execution_count": 179,
   "id": "e201e1d8-0948-4843-9dcc-667a655ed0f6",
   "metadata": {},
   "outputs": [
    {
     "data": {
      "text/plain": [
       "array([-0.0099047 , -0.07703114, -0.00335198,  3.33498323,  2.43240081])"
      ]
     },
     "execution_count": 179,
     "metadata": {},
     "output_type": "execute_result"
    }
   ],
   "source": [
    "#print Beta values\n",
    "linreg.coef_"
   ]
  },
  {
   "cell_type": "code",
   "execution_count": 181,
   "id": "8366c53b-ad26-427c-a945-37272a804799",
   "metadata": {},
   "outputs": [
    {
     "data": {
      "text/plain": [
       "Index(['Displacement', 'Horsepower', 'Weight', 'Cylinders_4', 'Cylinders_8'], dtype='object')"
      ]
     },
     "execution_count": 181,
     "metadata": {},
     "output_type": "execute_result"
    }
   ],
   "source": [
    "xtest_selected.columns"
   ]
  },
  {
   "cell_type": "code",
   "execution_count": null,
   "id": "20880d5d-eadb-4bb2-bc6e-53c5fa0edb78",
   "metadata": {},
   "outputs": [],
   "source": []
  },
  {
   "cell_type": "code",
   "execution_count": null,
   "id": "9086686b-ac21-4b86-b11c-ecb80db941dd",
   "metadata": {},
   "outputs": [],
   "source": []
  }
 ],
 "metadata": {
  "kernelspec": {
   "display_name": "Python 3 (ipykernel)",
   "language": "python",
   "name": "python3"
  },
  "language_info": {
   "codemirror_mode": {
    "name": "ipython",
    "version": 3
   },
   "file_extension": ".py",
   "mimetype": "text/x-python",
   "name": "python",
   "nbconvert_exporter": "python",
   "pygments_lexer": "ipython3",
   "version": "3.12.3"
  }
 },
 "nbformat": 4,
 "nbformat_minor": 5
}
